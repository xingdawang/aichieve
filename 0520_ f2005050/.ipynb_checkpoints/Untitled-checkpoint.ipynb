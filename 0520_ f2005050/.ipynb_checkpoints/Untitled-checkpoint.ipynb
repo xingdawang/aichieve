{
 "cells": [
  {
   "cell_type": "code",
   "execution_count": 287,
   "metadata": {},
   "outputs": [
    {
     "name": "stdout",
     "output_type": "stream",
     "text": [
      "原始数据预览:\n",
      "数据尺度: (1338, 39)\n",
      "                         标题  关注     总价       单价    户型   朝向    平方数        楼层  \\\n",
      "0    天润城九街区三房 拎包入住，电梯房，交通便利  93  202.0  22394.7  3室2厅  南 北  90.20  高楼层/共11层   \n",
      "1    天润城九街区三房 拎包入住，电梯房，交通便利  93  202.0  22394.7  3室2厅  南 北  90.20  高楼层/共11层   \n",
      "2    天润城九街区三房 拎包入住，电梯房，交通便利  10  215.0  23820.1  3室2厅  南 北  90.26  中楼层/共11层   \n",
      "3    天润城九街区三房 拎包入住，电梯房，交通便利  10  215.0  23820.1  3室2厅  南 北  90.26  中楼层/共11层   \n",
      "4  此房河东位置，老客户房子，满五唯一，采光全天无遮  15  192.0  21098.9  3室1厅  南 北  91.00  高楼层/共11层   \n",
      "\n",
      "        装修         楼房类型        小区  地区             挂牌时间     商品类型      房屋用途  \\\n",
      "0    平层/精装    2009年建/板楼   天润城第九街区  浦口  挂牌时间2019年01月06日  交易权属商品房  房屋用途普通住宅   \n",
      "1    平层/精装    2009年建/板楼   天润城第九街区  浦口  挂牌时间2019年01月06日  交易权属商品房  房屋用途普通住宅   \n",
      "2  暂无数据/简装    2009年建/板楼   天润城第九街区  浦口  挂牌时间2019年03月11日  交易权属商品房  房屋用途普通住宅   \n",
      "3  暂无数据/简装    2009年建/板楼   天润城第九街区  浦口  挂牌时间2019年03月11日  交易权属商品房  房屋用途普通住宅   \n",
      "4    平层/精装  2012年建/板塔结合  天润城第十二街区  浦口  挂牌时间2019年09月13日  交易权属商品房  房屋用途普通住宅   \n",
      "\n",
      "           上次交易时间       满年限                  抵押情况       权限        梯户  地铁站距离  \\\n",
      "0  上次交易2013-07-22   房屋年限满五年         有抵押 60万元 客户偿还      NaN  梯户比例一梯两户  259.0   \n",
      "1  上次交易2013-07-22   房屋年限满五年         有抵押 60万元 客户偿还      NaN  梯户比例一梯两户  259.0   \n",
      "2  上次交易2016-08-04   房屋年限满两年  有抵押 80万元 中国建设银行 客户偿还  产权年限70年     配备电梯有  259.0   \n",
      "3  上次交易2016-08-04   房屋年限满两年  有抵押 80万元 中国建设银行 客户偿还  产权年限70年     配备电梯有  259.0   \n",
      "4        上次交易暂无数据  房屋年限暂无数据                   无抵押  产权年限70年     配备电梯有  455.0   \n",
      "\n",
      "     地铁线             幼儿园  幼儿园距离                    小学  小学距离                中学  \\\n",
      "0  地铁3号线      易德国际天润城幼儿园    528             天润城十三街区小学  261米  南京市第二十九中学(天润城分校)   \n",
      "1  地铁3号线      易德国际天润城幼儿园    528             天润城十三街区小学  261米  南京市第二十九中学(天润城分校)   \n",
      "2  地铁3号线      易德国际天润城幼儿园    528             天润城十三街区小学  261米  南京市第二十九中学(天润城分校)   \n",
      "3  地铁3号线      易德国际天润城幼儿园    528             天润城十三街区小学  261米  南京市第二十九中学(天润城分校)   \n",
      "4  地铁3号线  南京市浦口区天润城伟才幼儿园    416  南京市琅琊路小学分校天润城小学(北校区)  403米  南京市第二十九中学(天润城分校)   \n",
      "\n",
      "     中学距离              商场    商场距离            市场  市场距离      菜市场  菜市场距离  \\\n",
      "0  1149.0  环宇百货(苏宁环球天润广场)  1136.0  天悦城生活广场(浦口店)   327  天润城奥都菜场    476   \n",
      "1  1149.0  环宇百货(苏宁环球天润广场)  1136.0  天悦城生活广场(浦口店)   327  天润城奥都菜场    476   \n",
      "2  1149.0  环宇百货(苏宁环球天润广场)  1136.0  天悦城生活广场(浦口店)   327  天润城奥都菜场    476   \n",
      "3  1149.0  环宇百货(苏宁环球天润广场)  1136.0  天悦城生活广场(浦口店)   327  天润城奥都菜场    476   \n",
      "4   591.0  环宇百货(苏宁环球天润广场)  1535.0  天悦城生活广场(浦口店)   314  六合平价蔬菜店    403   \n",
      "\n",
      "        公园    公园距离            电影院   电影院距离  \\\n",
      "0      跳伞塔  1600.0  大地影院(南京天华百润店)  1149.0   \n",
      "1      跳伞塔  1600.0  大地影院(南京天华百润店)  1149.0   \n",
      "2      跳伞塔  1600.0  大地影院(南京天华百润店)  1149.0   \n",
      "3      跳伞塔  1600.0  大地影院(南京天华百润店)  1149.0   \n",
      "4  宝塔山森林公园  1873.0  大地影院(南京天华百润店)  1550.0   \n",
      "\n",
      "                                                标题链接  \n",
      "0  https://nj.ke.com/ershoufang/19011917810100114...  \n",
      "1  https://nj.ke.com/ershoufang/19031217810100121...  \n",
      "2  https://nj.ke.com/ershoufang/19011917810100114...  \n",
      "3  https://nj.ke.com/ershoufang/19031217810100121...  \n",
      "4  https://nj.ke.com/ershoufang/19091317810100109...  \n",
      "\n"
     ]
    }
   ],
   "source": [
    "import pandas as pd\n",
    "import matplotlib.pyplot as plt\n",
    "import warnings\n",
    "warnings.filterwarnings('ignore')\n",
    "\n",
    "pd.set_option('max_columns', None)\n",
    "\n",
    "source = pd.read_excel('南京情况.xlsx')\n",
    "print('原始数据预览:')\n",
    "print('数据尺度:', source.shape)\n",
    "print(source.head())\n",
    "print()"
   ]
  },
  {
   "cell_type": "code",
   "execution_count": 288,
   "metadata": {},
   "outputs": [
    {
     "name": "stdout",
     "output_type": "stream",
     "text": [
      "数据探索\n",
      "所有参数： ['标题', '关注', '总价', '单价', '户型', '朝向', '平方数', '楼层', '装修', '楼房类型', '小区', '地区', '挂牌时间', '商品类型', '房屋用途', '上次交易时间', '满年限', '抵押情况', '权限', '梯户', '地铁站距离', '地铁线', '幼儿园', '幼儿园距离', '小学', '小学距离', '中学', '中学距离', '商场', '商场距离', '市场', '市场距离', '菜市场', '菜市场距离', '公园', '公园距离', '电影院', '电影院距离', '标题链接']\n",
      "无用参数： ['标题', '关注', '总价', '平方数', '小区', '商品类型', '房屋用途', '梯户', '地铁线', '幼儿园', '小学', '中学', '商场', '市场', '菜市场', '公园', '电影院', '标题链接']\n",
      "\n"
     ]
    }
   ],
   "source": [
    "print('数据探索')\n",
    "print('所有参数：', list(source.columns))\n",
    "noisy_features = ['标题', '关注', '总价', '平方数', '小区', '商品类型', '房屋用途', '梯户', '地铁线',\n",
    "                  '幼儿园', '小学', '中学', '商场', '市场', '菜市场', '公园', '电影院', '标题链接']\n",
    "print('无用参数：', noisy_features)\n",
    "print()"
   ]
  },
  {
   "cell_type": "code",
   "execution_count": 289,
   "metadata": {},
   "outputs": [
    {
     "name": "stdout",
     "output_type": "stream",
     "text": [
      "舍弃无用信息列后，数据预览\n",
      "数据尺度: (1338, 21)\n",
      "        单价    户型   朝向        楼层       装修         楼房类型  地区             挂牌时间  \\\n",
      "0  22394.7  3室2厅  南 北  高楼层/共11层    平层/精装    2009年建/板楼  浦口  挂牌时间2019年01月06日   \n",
      "1  22394.7  3室2厅  南 北  高楼层/共11层    平层/精装    2009年建/板楼  浦口  挂牌时间2019年01月06日   \n",
      "2  23820.1  3室2厅  南 北  中楼层/共11层  暂无数据/简装    2009年建/板楼  浦口  挂牌时间2019年03月11日   \n",
      "3  23820.1  3室2厅  南 北  中楼层/共11层  暂无数据/简装    2009年建/板楼  浦口  挂牌时间2019年03月11日   \n",
      "4  21098.9  3室1厅  南 北  高楼层/共11层    平层/精装  2012年建/板塔结合  浦口  挂牌时间2019年09月13日   \n",
      "\n",
      "           上次交易时间       满年限                  抵押情况       权限  地铁站距离  幼儿园距离  \\\n",
      "0  上次交易2013-07-22   房屋年限满五年         有抵押 60万元 客户偿还      NaN  259.0    528   \n",
      "1  上次交易2013-07-22   房屋年限满五年         有抵押 60万元 客户偿还      NaN  259.0    528   \n",
      "2  上次交易2016-08-04   房屋年限满两年  有抵押 80万元 中国建设银行 客户偿还  产权年限70年  259.0    528   \n",
      "3  上次交易2016-08-04   房屋年限满两年  有抵押 80万元 中国建设银行 客户偿还  产权年限70年  259.0    528   \n",
      "4        上次交易暂无数据  房屋年限暂无数据                   无抵押  产权年限70年  455.0    416   \n",
      "\n",
      "   小学距离    中学距离    商场距离  市场距离  菜市场距离    公园距离   电影院距离  \n",
      "0  261米  1149.0  1136.0   327    476  1600.0  1149.0  \n",
      "1  261米  1149.0  1136.0   327    476  1600.0  1149.0  \n",
      "2  261米  1149.0  1136.0   327    476  1600.0  1149.0  \n",
      "3  261米  1149.0  1136.0   327    476  1600.0  1149.0  \n",
      "4  403米   591.0  1535.0   314    403  1873.0  1550.0  \n",
      "\n"
     ]
    }
   ],
   "source": [
    "# 舍弃无用信息列\n",
    "source = source.drop(columns=noisy_features)\n",
    "print('舍弃无用信息列后，数据预览')\n",
    "print('数据尺度:', source.shape)\n",
    "print(source.head())\n",
    "print()"
   ]
  },
  {
   "cell_type": "markdown",
   "metadata": {},
   "source": [
    "### 线性回归"
   ]
  },
  {
   "cell_type": "markdown",
   "metadata": {},
   "source": [
    "### Feature Engineering 数据工程"
   ]
  },
  {
   "cell_type": "code",
   "execution_count": 290,
   "metadata": {
    "scrolled": true
   },
   "outputs": [],
   "source": [
    "from sklearn.preprocessing import LabelEncoder\n",
    "\n",
    "# 标签列\n",
    "y = source['单价']\n",
    "\n",
    "# 处理户型 (OneHotEncoding)\n",
    "huxing = pd.get_dummies(source['户型'], prefix='户型')\n",
    "\n",
    "# 处理朝向\n",
    "all_direction_list = list(set(source['朝向'])) # 提取朝向\n",
    "all_directions = set(' '.join(all_direction_list).split(' ')) # 将不同朝向用空格分开，用集合去重后再用空格组合\n",
    "all_directions = list(map(lambda x: '朝向_' + x, list(all_directions))) # 用匿名函数添加‘朝向_’前缀\n",
    "chaoxiang = pd.DataFrame(columns=all_directions)\n",
    "# 将卷数据以此填充到新的朝向Data Frame中\n",
    "direction_index = 0\n",
    "for row in source['朝向']:\n",
    "    direction_list = row.split(' ')\n",
    "    for direction in direction_list:\n",
    "        chaoxiang.at[direction_index, '朝向_' + direction] = 1\n",
    "    direction_index += 1\n",
    "chaoxiang.fillna(0, inplace = True)        \n",
    "\n",
    "# 处理楼层\n",
    "floor = pd.DataFrame(columns=['楼层_位置', '楼层_高度'])\n",
    "floor_index = 0\n",
    "for row in source['楼层']:\n",
    "    position, hight_number = row.split('/')\n",
    "    # 楼层转换成相应数字\n",
    "    if position == '高楼层':\n",
    "        position = 3\n",
    "    elif position == '中楼层':\n",
    "        position = 2\n",
    "    elif position == '低楼层':\n",
    "        position = 1\n",
    "    floor.at[floor_index, '楼层_位置'] = position\n",
    "    \n",
    "    # 提取楼层高度\n",
    "    hight_number = hight_number.replace('共', '')\n",
    "    hight_number = hight_number.replace('层', '')\n",
    "    hight_number = int(hight_number)\n",
    "    floor.at[floor_index, '楼层_高度'] = hight_number\n",
    "    floor_index += 1\n",
    "\n",
    "# 处理装修 (OneHotEncoding)\n",
    "decoration = pd.get_dummies(source['装修'], prefix='装修')\n",
    "\n",
    "# 处理楼房类型\n",
    "house_type = pd.DataFrame(columns=['楼房类型_年份', '楼房类型_板楼', '楼房类型_塔楼', '楼房类型_平房'])\n",
    "house_type_index = 0\n",
    "for row in source['楼房类型']:\n",
    "    \n",
    "    if row == '暂无数据':\n",
    "        house_type.at[house_type_index, '楼房类型_平房'] = 0\n",
    "    elif row == '平房':\n",
    "        house_type.at[house_type_index, '楼房类型_平房'] = 1\n",
    "    elif row == '塔楼':\n",
    "        house_type.at[house_type_index, '楼房类型_塔楼'] = 1\n",
    "    elif row == '板楼':\n",
    "        house_type.at[house_type_index, '楼房类型_板楼'] = 1\n",
    "    elif row == '板塔结合':\n",
    "        house_type.at[house_type_index, '楼房类型_板楼'] = 1\n",
    "        house_type.at[house_type_index, '楼房类型_塔楼'] = 1\n",
    "    elif '年建'in row and '/' not in row:\n",
    "        house_year = row.replace('年建', '')\n",
    "        house_type.at[house_type_index, '楼房类型_年份'] = house_year = int(house_year)\n",
    "    else:\n",
    "        house_year, house_type_raw = row.split('/')\n",
    "        house_year = house_year.replace('年建', '')\n",
    "        house_type.at[house_type_index, '楼房类型_年份'] = house_year = int(house_year)\n",
    "        if house_type_raw == '塔楼':\n",
    "            house_type.at[house_type_index, '楼房类型_塔楼'] = 1\n",
    "        elif house_type_raw == '板楼':\n",
    "            house_type.at[house_type_index, '楼房类型_板楼'] = 1\n",
    "        elif house_type_raw == '板塔结合':\n",
    "            house_type.at[house_type_index, '楼房类型_板楼'] = 1\n",
    "            house_type.at[house_type_index, '楼房类型_塔楼'] = 1\n",
    "    house_type_index += 1\n",
    "house_type = house_type.fillna(0)\n",
    "\n",
    "# 处理地区 (OneHotEncoding)\n",
    "area = pd.get_dummies(source['地区'], prefix='地区')\n",
    "\n",
    "# 处理挂牌时间\n",
    "onboard_time = source['挂牌时间'].apply(lambda x: int(x[4:8]))\n",
    "\n",
    "# 处理上次交易时间\n",
    "last_purchase_time = source['上次交易时间'].apply(lambda x: 0 if x == '上次交易暂无数据' else int(x[4:8]))\n",
    "\n",
    "# 处理满年限 (LabelEncoding)\n",
    "full_year = LabelEncoder().fit_transform(source['满年限'])\n",
    "full_year = pd.Series(full_year, name='满年限')\n",
    "\n",
    "# 处理抵押情况\n",
    "mortgage = source['抵押情况'].apply(lambda x: 0 if x == '无抵押' else 1)\n",
    "\n",
    "# 处理权限\n",
    "ownership = source['权限'].apply(lambda x: 70 if x == '产权年限70年' else 0)\n",
    "\n",
    "# 处理小学距离\n",
    "missing_max_distance = 3000\n",
    "primary_distance = source['小学距离'].fillna(str(missing_max_distance)+'米')\n",
    "primary_distance = primary_distance.apply(lambda x: int(x.replace('米', '')))"
   ]
  },
  {
   "cell_type": "code",
   "execution_count": 291,
   "metadata": {
    "scrolled": true
   },
   "outputs": [
    {
     "name": "stdout",
     "output_type": "stream",
     "text": [
      "线性回归数据处理后预览\n",
      "数据尺度: (1338, 56)\n",
      "   户型_3室1厅  户型_3室2厅  户型_3室3厅  朝向_南  朝向_北  朝向_西  朝向_西南  朝向_东  朝向_东南  楼层_位置  \\\n",
      "0        0        1        0     1     1     0      0     0      0      3   \n",
      "1        0        1        0     1     1     0      0     0      0      3   \n",
      "2        0        1        0     1     1     0      0     0      0      2   \n",
      "3        0        1        0     1     1     0      0     0      0      2   \n",
      "4        1        0        0     1     1     0      0     0      0      3   \n",
      "\n",
      "   楼层_高度  装修_复式/毛坯  装修_复式/精装  装修_平层/其他  装修_平层/毛坯  装修_平层/简装  装修_平层/精装  \\\n",
      "0     11         0         0         0         0         0         1   \n",
      "1     11         0         0         0         0         0         1   \n",
      "2     11         0         0         0         0         0         0   \n",
      "3     11         0         0         0         0         0         0   \n",
      "4     11         0         0         0         0         0         1   \n",
      "\n",
      "   装修_暂无数据/其他  装修_暂无数据/毛坯  装修_暂无数据/简装  装修_暂无数据/精装  装修_跃层/其他  装修_跃层/毛坯  \\\n",
      "0           0           0           0           0         0         0   \n",
      "1           0           0           0           0         0         0   \n",
      "2           0           0           1           0         0         0   \n",
      "3           0           0           1           0         0         0   \n",
      "4           0           0           0           0         0         0   \n",
      "\n",
      "   装修_跃层/简装  装修_跃层/精装  装修_错层/其他  装修_错层/简装  装修_错层/精装  楼房类型_年份  楼房类型_板楼  \\\n",
      "0         0         0         0         0         0     2009        1   \n",
      "1         0         0         0         0         0     2009        1   \n",
      "2         0         0         0         0         0     2009        1   \n",
      "3         0         0         0         0         0     2009        1   \n",
      "4         0         0         0         0         0     2012        1   \n",
      "\n",
      "   楼房类型_塔楼  楼房类型_平房  地区_六合  地区_建邺  地区_栖霞  地区_江宁  地区_浦口  地区_溧水  地区_玄武  地区_秦淮  \\\n",
      "0        0        0      0      0      0      0      1      0      0      0   \n",
      "1        0        0      0      0      0      0      1      0      0      0   \n",
      "2        0        0      0      0      0      0      1      0      0      0   \n",
      "3        0        0      0      0      0      0      1      0      0      0   \n",
      "4        1        0      0      0      0      0      1      0      0      0   \n",
      "\n",
      "   地区_雨花台  地区_鼓楼  挂牌时间  上次交易时间  满年限  抵押情况  权限  地铁站距离  幼儿园距离  小学距离    中学距离  \\\n",
      "0       0      0  2019    2013    2     1   0  259.0    528   261  1149.0   \n",
      "1       0      0  2019    2013    2     1   0  259.0    528   261  1149.0   \n",
      "2       0      0  2019    2016    1     1  70  259.0    528   261  1149.0   \n",
      "3       0      0  2019    2016    1     1  70  259.0    528   261  1149.0   \n",
      "4       0      0  2019       0    0     0  70  455.0    416   403   591.0   \n",
      "\n",
      "     商场距离  市场距离  菜市场距离    公园距离   电影院距离  \n",
      "0  1136.0   327    476  1600.0  1149.0  \n",
      "1  1136.0   327    476  1600.0  1149.0  \n",
      "2  1136.0   327    476  1600.0  1149.0  \n",
      "3  1136.0   327    476  1600.0  1149.0  \n",
      "4  1535.0   314    403  1873.0  1550.0  \n"
     ]
    }
   ],
   "source": [
    "# 组合数据保存结果\n",
    "data = pd.concat([huxing, chaoxiang], axis=1)\n",
    "data = pd.concat([data, floor], axis=1)\n",
    "data = pd.concat([data, decoration], axis=1)\n",
    "data = pd.concat([data, house_type], axis=1)\n",
    "data = pd.concat([data, area], axis=1)\n",
    "data = pd.concat([data, onboard_time], axis=1)\n",
    "data = pd.concat([data, last_purchase_time], axis=1)\n",
    "data = pd.concat([data, full_year], axis=1)\n",
    "data = pd.concat([data, mortgage], axis=1)\n",
    "data = pd.concat([data, ownership], axis=1)\n",
    "data = pd.concat([data, source[['地铁站距离', '幼儿园距离']]], axis=1)\n",
    "data = pd.concat([data, primary_distance], axis=1)\n",
    "data = pd.concat([data, source[['中学距离', '商场距离', '市场距离', '菜市场距离', '公园距离', '电影院距离']]], axis=1)\n",
    "data.fillna(missing_max_distance, inplace = True)\n",
    "print('线性回归数据处理后预览')\n",
    "print('数据尺度:', data.shape)\n",
    "print(data.head())\n",
    "print()"
   ]
  },
  {
   "cell_type": "code",
   "execution_count": 292,
   "metadata": {},
   "outputs": [
    {
     "name": "stdout",
     "output_type": "stream",
     "text": [
      "主成分分析(PCA), 主成分数: 40\n",
      "PCA保留率: 91.51%\n"
     ]
    }
   ],
   "source": [
    "from sklearn.decomposition import PCA\n",
    "from sklearn.preprocessing import StandardScaler\n",
    "\n",
    "X_scaled = StandardScaler().fit_transform(data)\n",
    "pca = PCA()\n",
    "X_pca = pca.fit_transform(X_scaled)\n",
    "\n",
    "component_number = 40\n",
    "print('主成分分析(PCA), 主成分数:', component_number)\n",
    "component_pct = sum(pca.explained_variance_ratio_[:component_number]) * 100\n",
    "print('PCA保留率: %.2f%%' % component_pct)\n",
    "print()"
   ]
  },
  {
   "cell_type": "code",
   "execution_count": 293,
   "metadata": {},
   "outputs": [
    {
     "name": "stdout",
     "output_type": "stream",
     "text": [
      "PCA数据变换后尺度: (1338, 40)\n"
     ]
    }
   ],
   "source": [
    "pca = PCA(n_components=40)\n",
    "X_pca = pca.fit_transform(X_scaled)\n",
    "print('PCA数据变换后尺度:', X_pca.shape)\n",
    "print()"
   ]
  },
  {
   "cell_type": "code",
   "execution_count": 294,
   "metadata": {},
   "outputs": [
    {
     "name": "stdout",
     "output_type": "stream",
     "text": [
      "分训练集和测试集分类\n"
     ]
    }
   ],
   "source": [
    "from sklearn.model_selection import train_test_split\n",
    "\n",
    "# 分训练集和测试集\n",
    "X_train, X_test, y_train, y_test = train_test_split(X_pca, y, random_state=60)\n",
    "print('分训练集和测试集分类')\n",
    "print()"
   ]
  },
  {
   "cell_type": "code",
   "execution_count": 295,
   "metadata": {},
   "outputs": [
    {
     "name": "stdout",
     "output_type": "stream",
     "text": [
      "训练ElasticNet线性模型\n",
      "ElasticNet线性模型参数: ElasticNetCV(alphas=None, copy_X=True, cv=10, eps=0.001, fit_intercept=True,\n",
      "       l1_ratio=0.5, max_iter=1000, n_alphas=100, n_jobs=None,\n",
      "       normalize=False, positive=False, precompute='auto',\n",
      "       random_state=None, selection='cyclic', tol=0.0001, verbose=0)\n"
     ]
    }
   ],
   "source": [
    "from sklearn.linear_model import ElasticNetCV\n",
    "from sklearn.metrics import mean_squared_error\n",
    "en = ElasticNetCV(cv = 10)\n",
    "print('训练ElasticNet线性模型')\n",
    "params = en.fit(X_train, y_train)\n",
    "print('ElasticNet线性模型参数:', params)\n",
    "print()"
   ]
  },
  {
   "cell_type": "code",
   "execution_count": 296,
   "metadata": {},
   "outputs": [
    {
     "name": "stdout",
     "output_type": "stream",
     "text": [
      "ElasticNet R^2: 0.1284422001192338\n",
      "ElasticNet RMSE: 2012415.934508135\n"
     ]
    }
   ],
   "source": [
    "r2 = en.score(X_test, y_test)\n",
    "print('ElasticNet R^2:', r2)\n",
    "y_pred = en.predict(X_test)\n",
    "rmse = mean_squared_error(y_pred, y_test)\n",
    "print('ElasticNet RMSE:', rmse)\n",
    "print()"
   ]
  },
  {
   "cell_type": "code",
   "execution_count": 297,
   "metadata": {},
   "outputs": [
    {
     "name": "stdout",
     "output_type": "stream",
     "text": [
      "训练线性回归(Linear Regression)模型\n",
      "Linear Regression R^2: 0.12410040334137862\n",
      "Linear Regression RMSE: 2022441.0883434252\n"
     ]
    }
   ],
   "source": [
    "from sklearn.linear_model import LinearRegression\n",
    "lin_reg = LinearRegression()\n",
    "lin_reg.fit(X_train, y_train)\n",
    "\n",
    "\n",
    "print('训练线性回归(Linear Regression)模型')\n",
    "r2 = lin_reg.score(X_test, y_test)\n",
    "print('Linear Regression R^2:', r2)\n",
    "y_pred = y_pred = lin_reg.predict(X_test)\n",
    "rmse = mean_squared_error(y_pred, y_test)\n",
    "print('Linear Regression RMSE:', rmse)\n",
    "print()"
   ]
  },
  {
   "cell_type": "markdown",
   "metadata": {},
   "source": [
    "### 决策树模型"
   ]
  },
  {
   "cell_type": "markdown",
   "metadata": {},
   "source": [
    "### Feature Engineering 数据工程"
   ]
  },
  {
   "cell_type": "code",
   "execution_count": 298,
   "metadata": {},
   "outputs": [],
   "source": [
    "# 标签列\n",
    "y = source['单价']\n",
    "\n",
    "# 处理楼房类型\n",
    "house_type = pd.DataFrame(columns=['楼房类型_年份', '楼房类型_类型'])\n",
    "house_type_index = 0\n",
    "for row in source['楼房类型']:\n",
    "    if row in ['塔楼', '平房', '暂无数据', '板塔结合', '板楼']:\n",
    "        house_type.at[house_type_index, '楼房类型_年份'] = '暂无数据'\n",
    "        house_type.at[house_type_index, '楼房类型_类型'] = row\n",
    "    elif '年建' in row and '/' not in row:\n",
    "        house_type.at[house_type_index, '楼房类型_年份'] = row\n",
    "        house_type.at[house_type_index, '楼房类型_类型'] = '暂无数据'\n",
    "    else:\n",
    "        year, house_type_raw = row.split('/')\n",
    "        house_type.at[house_type_index, '楼房类型_年份'] = year\n",
    "        house_type.at[house_type_index, '楼房类型_类型'] = house_type_raw\n",
    "    house_type_index += 1\n"
   ]
  },
  {
   "cell_type": "code",
   "execution_count": 299,
   "metadata": {
    "scrolled": true
   },
   "outputs": [
    {
     "name": "stdout",
     "output_type": "stream",
     "text": [
      "树型、集合型处理后\n",
      "数据尺度 (1338, 20)\n",
      "数据预览    户型  朝向  楼层_位置  楼层_高度  楼房类型_年份  楼房类型_类型  地区  挂牌时间  上次交易时间  抵押情况  权限  地铁站距离  \\\n",
      "0   1  10      2      9       15        4   4     3      12     1   0  259.0   \n",
      "1   1  10      2      9       15        4   4     3      12     1   0  259.0   \n",
      "2   1  10      1      9       15        4   4     3      15     1   1  259.0   \n",
      "3   1  10      1      9       15        4   4     3      15     1   1  259.0   \n",
      "4   0  10      2      9       18        3   4     3       0     0   1  455.0   \n",
      "\n",
      "   幼儿园距离  小学距离    中学距离    商场距离  市场距离  菜市场距离    公园距离   电影院距离  \n",
      "0    528   261  1149.0  1136.0   327    476  1600.0  1149.0  \n",
      "1    528   261  1149.0  1136.0   327    476  1600.0  1149.0  \n",
      "2    528   261  1149.0  1136.0   327    476  1600.0  1149.0  \n",
      "3    528   261  1149.0  1136.0   327    476  1600.0  1149.0  \n",
      "4    416   403   591.0  1535.0   314    403  1873.0  1550.0  \n"
     ]
    }
   ],
   "source": [
    "import copy\n",
    "data = pd.concat([source['户型'], source['朝向']], axis = 1)\n",
    "data = pd.concat([data, floor], axis = 1)\n",
    "data = pd.concat([data, house_type], axis = 1)\n",
    "data = pd.concat([data, source['地区']], axis = 1)\n",
    "data = pd.concat([data, onboard_time], axis = 1)\n",
    "data = pd.concat([data, last_purchase_time], axis = 1)\n",
    "data = pd.concat([data, mortgage], axis = 1)\n",
    "data = pd.concat([data, ownership], axis = 1)\n",
    "data = pd.concat([data, source[['地铁站距离', '幼儿园距离']]], axis=1)\n",
    "data = pd.concat([data, primary_distance], axis=1)\n",
    "data = pd.concat([data, source[['中学距离', '商场距离', '市场距离', '菜市场距离', '公园距离', '电影院距离']]], axis=1)\n",
    "data.fillna(missing_max_distance, inplace = True)\n",
    "\n",
    "# 手工输入存档\n",
    "data_copied = copy.deepcopy(data)\n",
    "\n",
    "\n",
    "category_column = ['户型', '朝向', '楼层_位置', '楼层_高度', '楼房类型_年份', '楼房类型_类型', '地区', '挂牌时间',\n",
    "                  '上次交易时间', '抵押情况', '权限']\n",
    "category_dict = {}\n",
    "for category in category_column:\n",
    "    le = LabelEncoder()\n",
    "    category_dict[category] = le.fit(data[category])\n",
    "    data[category] = le.transform(data[category])\n",
    "\n",
    "print('树型、集合型处理后')\n",
    "print('数据尺度', data.shape)\n",
    "print('数据预览', data.head())\n",
    "print()\n",
    "# data\n"
   ]
  },
  {
   "cell_type": "code",
   "execution_count": 300,
   "metadata": {
    "scrolled": true
   },
   "outputs": [],
   "source": [
    "# 分训练集和测试集\n",
    "X_train, X_test, y_train, y_test = train_test_split(data, y, random_state=60)"
   ]
  },
  {
   "cell_type": "code",
   "execution_count": 304,
   "metadata": {},
   "outputs": [
    {
     "name": "stdout",
     "output_type": "stream",
     "text": [
      "训练决策树模型(Decision Tree)\n",
      "Decision Tree R^2: 0.22245114246124975\n",
      "Decision Tree RMSE: 1795350.4758762338\n"
     ]
    }
   ],
   "source": [
    "from sklearn.tree import DecisionTreeRegressor\n",
    "\n",
    "dt_reg = DecisionTreeRegressor(max_depth=5)\n",
    "dt_reg.fit(X_train, y_train)\n",
    "r2 = dt_reg.score(X_test, y_test)\n",
    "print('训练决策树模型(Decision Tree)')\n",
    "print('Decision Tree R^2:', r2)\n",
    "y_pred = dt_reg.predict(X_test)\n",
    "rmse = mean_squared_error(y_pred, y_test)\n",
    "print('Decision Tree RMSE:', rmse)\n",
    "print()"
   ]
  },
  {
   "cell_type": "code",
   "execution_count": 305,
   "metadata": {},
   "outputs": [
    {
     "name": "stdout",
     "output_type": "stream",
     "text": [
      "特征名称： ['户型', '朝向', '楼层_位置', '楼层_高度', '楼房类型_年份', '楼房类型_类型', '地区', '挂牌时间', '上次交易时间', '抵押情况', '权限', '地铁站距离', '幼儿园距离', '小学距离', '中学距离', '商场距离', '市场距离', '菜市场距离', '公园距离', '电影院距离']\n",
      "特征百分比重要性： [0.         0.         0.00057051 0.00394379 0.0056966  0.\n",
      " 0.20343673 0.         0.00281275 0.         0.         0.22163765\n",
      " 0.03687771 0.05467755 0.12752557 0.04810582 0.01041604 0.05852734\n",
      " 0.18734062 0.03843132]\n",
      "非0特征百分比重要性：\n",
      "地铁站距离 22.16%\n",
      "地区 20.34%\n",
      "公园距离 18.73%\n",
      "中学距离 12.75%\n",
      "菜市场距离 5.85%\n",
      "小学距离 5.47%\n",
      "商场距离 4.81%\n",
      "电影院距离 3.84%\n",
      "幼儿园距离 3.69%\n",
      "市场距离 1.04%\n",
      "楼房类型_年份 0.57%\n",
      "楼层_高度 0.39%\n",
      "上次交易时间 0.28%\n",
      "楼层_位置 0.06%\n"
     ]
    }
   ],
   "source": [
    "print('特征名称：', list(data.columns))\n",
    "print('特征百分比重要性：', dt_reg.feature_importances_)\n",
    "temp = list(dt_reg.feature_importances_)\n",
    "featue_important_index_list = [temp.index(x) for x in temp if x != 0]\n",
    "print('非0特征百分比重要性：')\n",
    "\n",
    "result = {}\n",
    "for index in featue_important_index_list:\n",
    "    result[data.columns[index]] = temp[index]*100\n",
    "\n",
    "for key in sorted(result, key=result.get, reverse = True):\n",
    "    print('%s %.2f%%' % (key, result[key]))\n",
    "print()"
   ]
  },
  {
   "cell_type": "code",
   "execution_count": 306,
   "metadata": {},
   "outputs": [
    {
     "name": "stdout",
     "output_type": "stream",
     "text": [
      "训练随机森林模型(Random Forest)\n",
      "Random Forest R^2: 0.5262844481073322\n",
      "Random Forest RMSE: 1093803.2167040883\n"
     ]
    }
   ],
   "source": [
    "# 随机森林\n",
    "from sklearn.ensemble import RandomForestRegressor\n",
    "\n",
    "rf_reg = RandomForestRegressor(n_estimators=500)\n",
    "rf_reg.fit(X_train, y_train)\n",
    "r2 = rf_reg.score(X_test, y_test)\n",
    "print('训练随机森林模型(Random Forest)')\n",
    "print('Random Forest R^2:', r2)\n",
    "y_pred = rf_reg.predict(X_test)\n",
    "rmse = mean_squared_error(y_pred, y_test)\n",
    "print('Random Forest RMSE:', rmse)\n",
    "print()"
   ]
  },
  {
   "cell_type": "markdown",
   "metadata": {},
   "source": [
    "### 手动输入房屋商品属性"
   ]
  },
  {
   "cell_type": "code",
   "execution_count": 245,
   "metadata": {},
   "outputs": [
    {
     "name": "stdout",
     "output_type": "stream",
     "text": [
      "户型 - 可选: {'3室3厅', '3室1厅', '3室2厅'}\n",
      "户型:3室3厅\n",
      "朝向 - 可选: {'南 北 西', '北', '南', '东 西', '南 东 北', '南 北', '西南 北', '东 南 西', '西', '西南', '北 南', '东南', '东 南', '东南 南', '东 南 北'}\n",
      "朝向:东 西\n",
      "楼层_位置 - 可选: {1, 2, 3}\n",
      "楼层_位置:3\n",
      "楼层_高度 - 可选: {1, 3, 4, 5, 6, 7, 8, 9, 10, 11, 12, 13, 15, 16, 17, 18, 19, 20, 21, 22, 23, 24, 25, 26, 27, 28, 29, 30, 31, 32, 33, 34}\n",
      "楼层_高度:32\n",
      "楼房类型_年份 - 可选: {'2019年建', '2014年建', '暂无数据', '2004年建', '1998年建', '1995年建', '2010年建', '2003年建', '1994年建', '2007年建', '2018年建', '2000年建', '2012年建', '2013年建', '1999年建', '2005年建', '2002年建', '2011年建', '2015年建', '2008年建', '1990年建', '1996年建', '2001年建', '2017年建', '2016年建', '2006年建', '2009年建'}\n",
      "楼房类型_年份:2019年建\n",
      "楼房类型_类型 - 可选: {'塔楼', '平房', '板塔结合', '暂无数据', '板楼'}\n",
      "楼房类型_类型:塔楼\n",
      "地区 - 可选: {'江宁', '鼓楼', '秦淮', '栖霞', '溧水', '浦口', '建邺', '六合', '玄武', '雨花台'}\n",
      "地区:鼓楼\n",
      "挂牌时间 - 可选: {2016, 2017, 2018, 2019}\n",
      "挂牌时间:2016\n",
      "上次交易时间 - 可选: {0, 2001, 2003, 2004, 2005, 2006, 2007, 2008, 2009, 2010, 2011, 2012, 2013, 2014, 2015, 2016, 2017, 2018, 2019}\n",
      "上次交易时间:2004\n",
      "抵押情况 - 可选: {0, 1}\n",
      "抵押情况:1\n",
      "权限 - 可选: {0, 70}\n",
      "权限:70\n",
      "地铁站距离:1352\n",
      "幼儿园距离:124\n",
      "小学距离:434\n",
      "中学距离:432\n",
      "商场距离:532\n",
      "市场距离:85\n",
      "菜市场距离:654\n",
      "公园距离:478\n",
      "电影院距离:349\n"
     ]
    }
   ],
   "source": [
    "manual_input = {}\n",
    "\n",
    "# 手动输入房屋商品属性\n",
    "print('手动输入房屋商品属性')\n",
    "for column in data_copied.columns:\n",
    "    if column in category_column:\n",
    "        print(column + ' - 可选:', set(data_copied[column]))\n",
    "\n",
    "    temp = input(column + ':')\n",
    "    if temp.isdigit():\n",
    "        manual_input[column] = [float(temp)]\n",
    "    else:\n",
    "        manual_input[column] = [temp]\n",
    "    "
   ]
  },
  {
   "cell_type": "code",
   "execution_count": 246,
   "metadata": {},
   "outputs": [
    {
     "data": {
      "text/html": [
       "<div>\n",
       "<style scoped>\n",
       "    .dataframe tbody tr th:only-of-type {\n",
       "        vertical-align: middle;\n",
       "    }\n",
       "\n",
       "    .dataframe tbody tr th {\n",
       "        vertical-align: top;\n",
       "    }\n",
       "\n",
       "    .dataframe thead th {\n",
       "        text-align: right;\n",
       "    }\n",
       "</style>\n",
       "<table border=\"1\" class=\"dataframe\">\n",
       "  <thead>\n",
       "    <tr style=\"text-align: right;\">\n",
       "      <th></th>\n",
       "      <th>户型</th>\n",
       "      <th>朝向</th>\n",
       "      <th>楼层_位置</th>\n",
       "      <th>楼层_高度</th>\n",
       "      <th>楼房类型_年份</th>\n",
       "      <th>楼房类型_类型</th>\n",
       "      <th>地区</th>\n",
       "      <th>挂牌时间</th>\n",
       "      <th>上次交易时间</th>\n",
       "      <th>抵押情况</th>\n",
       "      <th>权限</th>\n",
       "      <th>地铁站距离</th>\n",
       "      <th>幼儿园距离</th>\n",
       "      <th>小学距离</th>\n",
       "      <th>中学距离</th>\n",
       "      <th>商场距离</th>\n",
       "      <th>市场距离</th>\n",
       "      <th>菜市场距离</th>\n",
       "      <th>公园距离</th>\n",
       "      <th>电影院距离</th>\n",
       "    </tr>\n",
       "  </thead>\n",
       "  <tbody>\n",
       "    <tr>\n",
       "      <th>0</th>\n",
       "      <td>3室3厅</td>\n",
       "      <td>东 西</td>\n",
       "      <td>3.0</td>\n",
       "      <td>32.0</td>\n",
       "      <td>2019年建</td>\n",
       "      <td>塔楼</td>\n",
       "      <td>鼓楼</td>\n",
       "      <td>2016.0</td>\n",
       "      <td>2004.0</td>\n",
       "      <td>1.0</td>\n",
       "      <td>70.0</td>\n",
       "      <td>1352.0</td>\n",
       "      <td>124.0</td>\n",
       "      <td>434.0</td>\n",
       "      <td>432.0</td>\n",
       "      <td>532.0</td>\n",
       "      <td>85.0</td>\n",
       "      <td>654.0</td>\n",
       "      <td>478.0</td>\n",
       "      <td>349.0</td>\n",
       "    </tr>\n",
       "  </tbody>\n",
       "</table>\n",
       "</div>"
      ],
      "text/plain": [
       "     户型   朝向  楼层_位置  楼层_高度 楼房类型_年份 楼房类型_类型  地区    挂牌时间  上次交易时间  抵押情况    权限  \\\n",
       "0  3室3厅  东 西    3.0   32.0  2019年建      塔楼  鼓楼  2016.0  2004.0   1.0  70.0   \n",
       "\n",
       "    地铁站距离  幼儿园距离   小学距离   中学距离   商场距离  市场距离  菜市场距离   公园距离  电影院距离  \n",
       "0  1352.0  124.0  434.0  432.0  532.0  85.0  654.0  478.0  349.0  "
      ]
     },
     "execution_count": 246,
     "metadata": {},
     "output_type": "execute_result"
    }
   ],
   "source": [
    "manual_df = pd.DataFrame.from_dict(manual_input)\n",
    "# label encoding\n",
    "for column in category_dict:\n",
    "    manual_df[column] = category_dict[column].transform(manual_df[column])"
   ]
  },
  {
   "cell_type": "code",
   "execution_count": 254,
   "metadata": {
    "scrolled": true
   },
   "outputs": [
    {
     "name": "stdout",
     "output_type": "stream",
     "text": [
      "预测房价： 21557.46516190476\n"
     ]
    }
   ],
   "source": [
    "# 预测房价\n",
    "predicted_price = rf_reg.predict(manual_df)\n",
    "print('预测房价：', predicted_price[0])"
   ]
  },
  {
   "cell_type": "code",
   "execution_count": null,
   "metadata": {},
   "outputs": [],
   "source": []
  }
 ],
 "metadata": {
  "kernelspec": {
   "display_name": "Python 3",
   "language": "python",
   "name": "python3"
  },
  "language_info": {
   "codemirror_mode": {
    "name": "ipython",
    "version": 3
   },
   "file_extension": ".py",
   "mimetype": "text/x-python",
   "name": "python",
   "nbconvert_exporter": "python",
   "pygments_lexer": "ipython3",
   "version": "3.7.3"
  }
 },
 "nbformat": 4,
 "nbformat_minor": 2
}
